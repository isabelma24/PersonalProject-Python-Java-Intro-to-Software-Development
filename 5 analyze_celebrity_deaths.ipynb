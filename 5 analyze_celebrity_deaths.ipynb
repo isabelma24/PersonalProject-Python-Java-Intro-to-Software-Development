{
 "cells": [
  {
   "cell_type": "markdown",
   "metadata": {
    "deletable": false,
    "editable": false,
    "nbgrader": {
     "checksum": "fc6b5acf0e21e69b7df820576adb6150",
     "grade": false,
     "grade_id": "cell-cd5c4f4f4f41858d",
     "locked": true,
     "schema_version": 1,
     "solution": false
    }
   },
   "source": [
    "# Data Analysis - Celebrity Deaths in 2016\n",
    "\n",
    "Source: [Wikipedia - Deaths in 2016](https://en.wikipedia.org/wiki/Deaths_in_2016)\n",
    "\n",
    "#### Structure of dataset:\n",
    "- File: \"celebrity_deaths_2016.xlsx\"\n",
    "- Contains 2 sheets:\n",
    " - \"celeb_death\": contains records of deaths of famous humans and non-humans\n",
    " - \"cause_of_death\": contains the causes of the deaths (you'll need to merge it with the \"celeb_death\" sheet)\n",
    "\n",
    "#### Other information about the dataset:\n",
    "- The cause of death was not reported for all individuals\n",
    "- The dataset might include deaths that took place in other years (you'll need to ignore these records)\n",
    "- The dataset might contain duplicate records (you'll need to remove them)\n",
    "\n",
    "#### The goals of the exercise:\n",
    "- Load, merge, and clean the data\n",
    "- Explore the data and answer some simple questions\n",
    "- Run some basic analysis\n",
    "- Visualize your results"
   ]
  },
  {
   "cell_type": "code",
   "execution_count": 1,
   "metadata": {
    "deletable": false,
    "editable": false,
    "nbgrader": {
     "checksum": "c1a2f503d5aaa8f872033cb00135d152",
     "grade": true,
     "grade_id": "init_test",
     "locked": true,
     "points": 0,
     "schema_version": 1,
     "solution": false
    }
   },
   "outputs": [
    {
     "name": "stdout",
     "output_type": "stream",
     "text": [
      "Requirement already satisfied: xlrd in /home/codio/.local/lib/python3.6/site-packages (1.2.0)\n",
      "\u001b[33mWARNING: You are using pip version 19.1.1, however version 20.2.3 is available.\n",
      "You should consider upgrading via the 'pip install --upgrade pip' command.\u001b[0m\n"
     ]
    },
    {
     "name": "stderr",
     "output_type": "stream",
     "text": [
      "/usr/local/lib/python3.6/dist-packages/ipykernel_launcher.py:9: FutureWarning: pandas.util.testing is deprecated. Use the functions in the public API at pandas.testing instead.\n",
      "  if __name__ == '__main__':\n"
     ]
    }
   ],
   "source": [
    "###########################################################\n",
    "### EXECUTE THIS CELL BEFORE YOU TO TEST YOUR SOLUTIONS ###\n",
    "###########################################################\n",
    "!pip install xlrd --user\n",
    "import imp, os, sys\n",
    "import importlib\n",
    "sol = imp.load_compiled(\"sol\", \"./sol.py\")\n",
    "from nose.tools import assert_equal\n",
    "from pandas.util.testing import assert_frame_equal, assert_series_equal"
   ]
  },
  {
   "cell_type": "code",
   "execution_count": 2,
   "metadata": {
    "deletable": false,
    "editable": false,
    "nbgrader": {
     "checksum": "bd73f502262c669afb131b99adf77c1f",
     "grade": true,
     "grade_id": "init_user",
     "locked": true,
     "points": 0,
     "schema_version": 1,
     "solution": false
    }
   },
   "outputs": [],
   "source": [
    "\"\"\"\n",
    "We're providing most of the import statements you need for the entire exercise\n",
    "\"\"\"\n",
    "\n",
    "import pandas as pd\n",
    "import matplotlib.pyplot as plt \n",
    "\n",
    "%matplotlib inline"
   ]
  },
  {
   "cell_type": "markdown",
   "metadata": {
    "deletable": false,
    "editable": false,
    "nbgrader": {
     "checksum": "59ab51f999124b193034f545a0170ce2",
     "grade": false,
     "grade_id": "cell-35ee6fbac5f2e8e1",
     "locked": true,
     "schema_version": 1,
     "solution": false
    }
   },
   "source": [
    "### Load, merge, and clean the data"
   ]
  },
  {
   "cell_type": "code",
   "execution_count": 3,
   "metadata": {
    "deletable": false,
    "nbgrader": {
     "checksum": "3a7f5e4a877b4217a9d870336cc4d240",
     "grade": false,
     "grade_id": "q1",
     "locked": false,
     "schema_version": 1,
     "solution": true
    }
   },
   "outputs": [
    {
     "data": {
      "text/plain": [
       "<pandas.io.excel._base.ExcelFile at 0x7fd26e7e6fd0>"
      ]
     },
     "execution_count": 3,
     "metadata": {},
     "output_type": "execute_result"
    }
   ],
   "source": [
    "\"\"\" 1.\n",
    "1. Load the \"celebrity_deaths_2016.xlsx\" data file in the name \"xl\"\n",
    "2. Print the sheet names\n",
    "\"\"\"\n",
    "\n",
    "# YOUR CODE HERE\n",
    "\n",
    "xl = pd.ExcelFile('celebrity_deaths_2016.xlsx')\n",
    "xl"
   ]
  },
  {
   "cell_type": "code",
   "execution_count": 4,
   "metadata": {
    "deletable": false,
    "editable": false,
    "nbgrader": {
     "checksum": "3d08ca0f88ddc6417136625c5868d866",
     "grade": true,
     "grade_id": "q1_test",
     "locked": true,
     "points": 2,
     "schema_version": 1,
     "solution": false
    }
   },
   "outputs": [],
   "source": [
    "##########################\n",
    "### TEST YOUR SOLUTION ###\n",
    "##########################\n",
    "\n",
    "assert_equal(xl.sheet_names, sol.xl.sheet_names)"
   ]
  },
  {
   "cell_type": "code",
   "execution_count": 5,
   "metadata": {
    "deletable": false,
    "nbgrader": {
     "checksum": "25ca14da1ab85ca05a8550bb37b5e811",
     "grade": false,
     "grade_id": "q2",
     "locked": false,
     "schema_version": 1,
     "solution": true
    }
   },
   "outputs": [
    {
     "data": {
      "text/html": [
       "<div>\n",
       "<style scoped>\n",
       "    .dataframe tbody tr th:only-of-type {\n",
       "        vertical-align: middle;\n",
       "    }\n",
       "\n",
       "    .dataframe tbody tr th {\n",
       "        vertical-align: top;\n",
       "    }\n",
       "\n",
       "    .dataframe thead th {\n",
       "        text-align: right;\n",
       "    }\n",
       "</style>\n",
       "<table border=\"1\" class=\"dataframe\">\n",
       "  <thead>\n",
       "    <tr style=\"text-align: right;\">\n",
       "      <th></th>\n",
       "      <th>date of death</th>\n",
       "      <th>name</th>\n",
       "      <th>age</th>\n",
       "      <th>bio</th>\n",
       "      <th>cause_id</th>\n",
       "    </tr>\n",
       "  </thead>\n",
       "  <tbody>\n",
       "    <tr>\n",
       "      <th>0</th>\n",
       "      <td>2016-01-01</td>\n",
       "      <td>Tony Lane</td>\n",
       "      <td>71</td>\n",
       "      <td>American art director (Rolling Stone)</td>\n",
       "      <td>8915.0</td>\n",
       "    </tr>\n",
       "    <tr>\n",
       "      <th>1</th>\n",
       "      <td>2016-01-01</td>\n",
       "      <td>Gilbert Kaplan</td>\n",
       "      <td>74</td>\n",
       "      <td>American conductor and businessman</td>\n",
       "      <td>2860.0</td>\n",
       "    </tr>\n",
       "    <tr>\n",
       "      <th>2</th>\n",
       "      <td>2016-01-01</td>\n",
       "      <td>Brian Johns</td>\n",
       "      <td>79</td>\n",
       "      <td>Australian company director, managing director...</td>\n",
       "      <td>2860.0</td>\n",
       "    </tr>\n",
       "    <tr>\n",
       "      <th>3</th>\n",
       "      <td>2016-01-01</td>\n",
       "      <td>Natasha Aguilar</td>\n",
       "      <td>45</td>\n",
       "      <td>Costa Rican swimmer, silver and bronze medalis...</td>\n",
       "      <td>33897.0</td>\n",
       "    </tr>\n",
       "    <tr>\n",
       "      <th>4</th>\n",
       "      <td>2016-01-01</td>\n",
       "      <td>Fazu Aliyeva</td>\n",
       "      <td>83</td>\n",
       "      <td>Russian Avar poet and journalist</td>\n",
       "      <td>10648.0</td>\n",
       "    </tr>\n",
       "  </tbody>\n",
       "</table>\n",
       "</div>"
      ],
      "text/plain": [
       "  date of death             name age  \\\n",
       "0    2016-01-01        Tony Lane  71   \n",
       "1    2016-01-01   Gilbert Kaplan  74   \n",
       "2    2016-01-01      Brian Johns  79   \n",
       "3    2016-01-01  Natasha Aguilar  45   \n",
       "4    2016-01-01     Fazu Aliyeva  83   \n",
       "\n",
       "                                                 bio  cause_id  \n",
       "0              American art director (Rolling Stone)    8915.0  \n",
       "1                 American conductor and businessman    2860.0  \n",
       "2  Australian company director, managing director...    2860.0  \n",
       "3  Costa Rican swimmer, silver and bronze medalis...   33897.0  \n",
       "4                   Russian Avar poet and journalist   10648.0  "
      ]
     },
     "execution_count": 5,
     "metadata": {},
     "output_type": "execute_result"
    }
   ],
   "source": [
    "\"\"\" 2.\n",
    "1. Read the \"celeb_death\" sheet into a dataframe named \"df\"\n",
    "2. Take a look at the top 5 rows. Save it in a variable called 'top5', then print it\n",
    "\"\"\"\n",
    "# YOUR CODE HERE\n",
    "\n",
    "df = xl.parse('celeb_death')\n",
    "top5 = df.head()\n",
    "top5"
   ]
  },
  {
   "cell_type": "code",
   "execution_count": 6,
   "metadata": {
    "deletable": false,
    "editable": false,
    "nbgrader": {
     "checksum": "ba23889295021d6808c873a373664923",
     "grade": true,
     "grade_id": "q2_test",
     "locked": true,
     "points": 2,
     "schema_version": 1,
     "solution": false
    }
   },
   "outputs": [],
   "source": [
    "##########################\n",
    "### TEST YOUR SOLUTION ###\n",
    "##########################\n",
    "\n",
    "assert_frame_equal(top5, sol.top5)"
   ]
  },
  {
   "cell_type": "code",
   "execution_count": 7,
   "metadata": {
    "deletable": false,
    "nbgrader": {
     "checksum": "f51b6e13d290031114c3735afa4d2739",
     "grade": false,
     "grade_id": "q3",
     "locked": false,
     "schema_version": 1,
     "solution": true
    }
   },
   "outputs": [
    {
     "name": "stdout",
     "output_type": "stream",
     "text": [
      "date of death    datetime64[ns]\n",
      "name                     object\n",
      "age                      object\n",
      "bio                      object\n",
      "cause_id                float64\n",
      "dtype: object\n",
      "(6594, 5)\n"
     ]
    }
   ],
   "source": [
    "\"\"\" 3.\n",
    "1. Take a look at the data types stored in each column in df. Store these in a variable called 'df_dtypes'\n",
    "2. Get the shape of df. Store this in a variable called 'df_shape'\n",
    "3. Print these\n",
    "\"\"\"\n",
    "# YOUR CODE HERE\n",
    "\n",
    "df_dtypes = df.dtypes\n",
    "df_shape = df.shape\n",
    "print(df_dtypes)\n",
    "print(df_shape)"
   ]
  },
  {
   "cell_type": "code",
   "execution_count": 8,
   "metadata": {
    "deletable": false,
    "editable": false,
    "nbgrader": {
     "checksum": "ade0e1904dfe9939e5a02ab67886e379",
     "grade": true,
     "grade_id": "q3_test",
     "locked": true,
     "points": 2,
     "schema_version": 1,
     "solution": false
    }
   },
   "outputs": [],
   "source": [
    "##########################\n",
    "### TEST YOUR SOLUTION ###\n",
    "##########################\n",
    "\n",
    "assert_series_equal(df_dtypes, sol.df_dtypes)\n",
    "assert_equal(df_shape, sol.df_shape)"
   ]
  },
  {
   "cell_type": "code",
   "execution_count": 9,
   "metadata": {
    "deletable": false,
    "nbgrader": {
     "checksum": "b94c702393964defeec649d90afe4a1a",
     "grade": false,
     "grade_id": "q4",
     "locked": false,
     "schema_version": 1,
     "solution": true
    }
   },
   "outputs": [],
   "source": [
    "\"\"\" 4.\n",
    "Drop the duplicates (based on all columns) from df\n",
    "\"\"\"\n",
    "# YOUR CODE HERE\n",
    "\n",
    "df = df.drop_duplicates()"
   ]
  },
  {
   "cell_type": "code",
   "execution_count": 10,
   "metadata": {
    "deletable": false,
    "editable": false,
    "nbgrader": {
     "checksum": "9edbfdc799acd2a824a59214bffe532d",
     "grade": true,
     "grade_id": "q4_test",
     "locked": true,
     "points": 2,
     "schema_version": 1,
     "solution": false
    }
   },
   "outputs": [],
   "source": [
    "assert_frame_equal(df, sol.df2)"
   ]
  },
  {
   "cell_type": "code",
   "execution_count": 11,
   "metadata": {
    "deletable": false,
    "nbgrader": {
     "checksum": "5aca1fb244436b772faf8f79c88724e9",
     "grade": false,
     "grade_id": "q5",
     "locked": false,
     "schema_version": 1,
     "solution": true
    }
   },
   "outputs": [
    {
     "data": {
      "text/html": [
       "<div>\n",
       "<style scoped>\n",
       "    .dataframe tbody tr th:only-of-type {\n",
       "        vertical-align: middle;\n",
       "    }\n",
       "\n",
       "    .dataframe tbody tr th {\n",
       "        vertical-align: top;\n",
       "    }\n",
       "\n",
       "    .dataframe thead th {\n",
       "        text-align: right;\n",
       "    }\n",
       "</style>\n",
       "<table border=\"1\" class=\"dataframe\">\n",
       "  <thead>\n",
       "    <tr style=\"text-align: right;\">\n",
       "      <th></th>\n",
       "      <th>cause_id</th>\n",
       "      <th>cause of death</th>\n",
       "    </tr>\n",
       "  </thead>\n",
       "  <tbody>\n",
       "    <tr>\n",
       "      <th>0</th>\n",
       "      <td>753</td>\n",
       "      <td>ALS</td>\n",
       "    </tr>\n",
       "    <tr>\n",
       "      <th>1</th>\n",
       "      <td>1039</td>\n",
       "      <td>bomb</td>\n",
       "    </tr>\n",
       "    <tr>\n",
       "      <th>2</th>\n",
       "      <td>1120</td>\n",
       "      <td>shot</td>\n",
       "    </tr>\n",
       "    <tr>\n",
       "      <th>3</th>\n",
       "      <td>1499</td>\n",
       "      <td>fall</td>\n",
       "    </tr>\n",
       "    <tr>\n",
       "      <th>4</th>\n",
       "      <td>1629</td>\n",
       "      <td>shot</td>\n",
       "    </tr>\n",
       "  </tbody>\n",
       "</table>\n",
       "</div>"
      ],
      "text/plain": [
       "   cause_id cause of death\n",
       "0       753            ALS\n",
       "1      1039           bomb\n",
       "2      1120           shot\n",
       "3      1499           fall\n",
       "4      1629           shot"
      ]
     },
     "execution_count": 11,
     "metadata": {},
     "output_type": "execute_result"
    }
   ],
   "source": [
    "\"\"\" 5.\n",
    "1. Read the \"cause_of_death\" sheet into a DataFrame named \"cause_of_death\"\n",
    "2. Take a look at the top 5 rows. Store this in a variable named cause_top5, then print it\n",
    "\"\"\"\n",
    "# YOUR CODE HERE\n",
    "\n",
    "cause_of_death = xl.parse ('cause_of_death')\n",
    "cause_top5 = cause_of_death.head()\n",
    "cause_top5"
   ]
  },
  {
   "cell_type": "code",
   "execution_count": 12,
   "metadata": {
    "deletable": false,
    "editable": false,
    "nbgrader": {
     "checksum": "a1e116b6a8575c6efc53631c0057c557",
     "grade": true,
     "grade_id": "q5_test",
     "locked": true,
     "points": 2,
     "schema_version": 1,
     "solution": false
    }
   },
   "outputs": [],
   "source": [
    "##########################\n",
    "### TEST YOUR SOLUTION ###\n",
    "##########################\n",
    "\n",
    "assert_frame_equal(cause_top5, sol.cause_top5)"
   ]
  },
  {
   "cell_type": "code",
   "execution_count": 13,
   "metadata": {
    "deletable": false,
    "nbgrader": {
     "checksum": "f24a71647b51eebba69971030d3b5ed9",
     "grade": false,
     "grade_id": "q6",
     "locked": false,
     "schema_version": 1,
     "solution": true
    }
   },
   "outputs": [],
   "source": [
    "\"\"\" 6.\n",
    "Drop the duplicates (based on the \"cause_id\" column) from the cause_of_death DataFrame\n",
    "\n",
    "Hint: There is a single DataFrame method that does this\n",
    "Use the \"subset\" argument to specify the \"cause_id\" column\n",
    "\n",
    "Reference: https://pandas.pydata.org/pandas-docs/stable/reference/frame.html\n",
    "\"\"\"\n",
    "# YOUR CODE HERE\n",
    "\n",
    "cause_of_death = cause_of_death.drop_duplicates(subset=['cause_id'])"
   ]
  },
  {
   "cell_type": "code",
   "execution_count": 14,
   "metadata": {
    "deletable": false,
    "editable": false,
    "nbgrader": {
     "checksum": "39e51167c4de2f49568ea19ff921518a",
     "grade": true,
     "grade_id": "q6_test",
     "locked": true,
     "points": 2,
     "schema_version": 1,
     "solution": false
    }
   },
   "outputs": [],
   "source": [
    "##########################\n",
    "### TEST YOUR SOLUTION ###\n",
    "##########################\n",
    "\n",
    "assert_frame_equal(cause_of_death, sol.cause_of_death)"
   ]
  },
  {
   "cell_type": "code",
   "execution_count": 15,
   "metadata": {
    "deletable": false,
    "nbgrader": {
     "checksum": "8f7f7517d285577e3d66ef4ba56b0e4f",
     "grade": false,
     "grade_id": "q7",
     "locked": false,
     "schema_version": 1,
     "solution": true
    }
   },
   "outputs": [
    {
     "data": {
      "text/html": [
       "<div>\n",
       "<style scoped>\n",
       "    .dataframe tbody tr th:only-of-type {\n",
       "        vertical-align: middle;\n",
       "    }\n",
       "\n",
       "    .dataframe tbody tr th {\n",
       "        vertical-align: top;\n",
       "    }\n",
       "\n",
       "    .dataframe thead th {\n",
       "        text-align: right;\n",
       "    }\n",
       "</style>\n",
       "<table border=\"1\" class=\"dataframe\">\n",
       "  <thead>\n",
       "    <tr style=\"text-align: right;\">\n",
       "      <th></th>\n",
       "      <th>date of death</th>\n",
       "      <th>name</th>\n",
       "      <th>age</th>\n",
       "      <th>bio</th>\n",
       "      <th>cause_id</th>\n",
       "      <th>cause of death</th>\n",
       "    </tr>\n",
       "  </thead>\n",
       "  <tbody>\n",
       "    <tr>\n",
       "      <th>0</th>\n",
       "      <td>2016-01-01</td>\n",
       "      <td>Tony Lane</td>\n",
       "      <td>71</td>\n",
       "      <td>American art director (Rolling Stone)</td>\n",
       "      <td>8915.0</td>\n",
       "      <td>brain cancer</td>\n",
       "    </tr>\n",
       "    <tr>\n",
       "      <th>1</th>\n",
       "      <td>2016-01-01</td>\n",
       "      <td>Gilbert Kaplan</td>\n",
       "      <td>74</td>\n",
       "      <td>American conductor and businessman</td>\n",
       "      <td>2860.0</td>\n",
       "      <td>cancer</td>\n",
       "    </tr>\n",
       "    <tr>\n",
       "      <th>2</th>\n",
       "      <td>2016-01-01</td>\n",
       "      <td>Brian Johns</td>\n",
       "      <td>79</td>\n",
       "      <td>Australian company director, managing director...</td>\n",
       "      <td>2860.0</td>\n",
       "      <td>cancer</td>\n",
       "    </tr>\n",
       "    <tr>\n",
       "      <th>3</th>\n",
       "      <td>2016-01-01</td>\n",
       "      <td>Natasha Aguilar</td>\n",
       "      <td>45</td>\n",
       "      <td>Costa Rican swimmer, silver and bronze medalis...</td>\n",
       "      <td>33897.0</td>\n",
       "      <td>complications of a stroke</td>\n",
       "    </tr>\n",
       "    <tr>\n",
       "      <th>4</th>\n",
       "      <td>2016-01-01</td>\n",
       "      <td>Fazu Aliyeva</td>\n",
       "      <td>83</td>\n",
       "      <td>Russian Avar poet and journalist</td>\n",
       "      <td>10648.0</td>\n",
       "      <td>heart failure</td>\n",
       "    </tr>\n",
       "  </tbody>\n",
       "</table>\n",
       "</div>"
      ],
      "text/plain": [
       "  date of death             name age  \\\n",
       "0    2016-01-01        Tony Lane  71   \n",
       "1    2016-01-01   Gilbert Kaplan  74   \n",
       "2    2016-01-01      Brian Johns  79   \n",
       "3    2016-01-01  Natasha Aguilar  45   \n",
       "4    2016-01-01     Fazu Aliyeva  83   \n",
       "\n",
       "                                                 bio  cause_id  \\\n",
       "0              American art director (Rolling Stone)    8915.0   \n",
       "1                 American conductor and businessman    2860.0   \n",
       "2  Australian company director, managing director...    2860.0   \n",
       "3  Costa Rican swimmer, silver and bronze medalis...   33897.0   \n",
       "4                   Russian Avar poet and journalist   10648.0   \n",
       "\n",
       "               cause of death  \n",
       "0                brain cancer  \n",
       "1                      cancer  \n",
       "2                      cancer  \n",
       "3   complications of a stroke  \n",
       "4               heart failure  "
      ]
     },
     "execution_count": 15,
     "metadata": {},
     "output_type": "execute_result"
    }
   ],
   "source": [
    "\"\"\" 7.\n",
    "1. Merge the cause_of_death DataFrame with the df DataFrame and name the new DataFrame as \"df\"\n",
    "2. Take a look at the top 5 rows in df. Save these in a variable called df_top5, then print it\n",
    "\n",
    "Note: There are records in df (left DataFrame) that do not have a matching record in cause_of_death (right DataFrame)\n",
    "We want to see ALL records in df despite the missing matches in cause_of_death, so you DON'T want to use an \"inner join\"\n",
    "\"\"\"\n",
    "# YOUR CODE HERE\n",
    "\n",
    "df = pd.merge(left = df, right = cause_of_death, how = 'left', on = 'cause_id')\n",
    "df_top5 = df.head()\n",
    "df_top5"
   ]
  },
  {
   "cell_type": "code",
   "execution_count": 16,
   "metadata": {
    "deletable": false,
    "editable": false,
    "nbgrader": {
     "checksum": "553372a590cea4112dc1f93d89cdfa24",
     "grade": true,
     "grade_id": "q7_test",
     "locked": true,
     "points": 2,
     "schema_version": 1,
     "solution": false
    }
   },
   "outputs": [],
   "source": [
    "##########################\n",
    "### TEST YOUR SOLUTION ###\n",
    "##########################\n",
    "assert_frame_equal(df_top5, sol.df_top5)"
   ]
  },
  {
   "cell_type": "markdown",
   "metadata": {
    "deletable": false,
    "editable": false,
    "nbgrader": {
     "checksum": "4bed0623645072b614ad5bbaade7ff1f",
     "grade": false,
     "grade_id": "cell-a76eee5c31152d7e",
     "locked": true,
     "schema_version": 1,
     "solution": false
    }
   },
   "source": [
    "### Querying data\n",
    "\n",
    "For the following questions, all the operations are on the Dataframe df."
   ]
  },
  {
   "cell_type": "code",
   "execution_count": 17,
   "metadata": {
    "deletable": false,
    "nbgrader": {
     "checksum": "fbf2b6afa757541334d530792295c348",
     "grade": false,
     "grade_id": "q8",
     "locked": false,
     "schema_version": 1,
     "solution": true
    }
   },
   "outputs": [],
   "source": [
    "\"\"\" 8.\n",
    "We'll be doing some calculations with the age column, but it was loaded from the data file as dtype \"object\"\n",
    "So first, we need to cast DataFrame df to a numeric value\n",
    "\"\"\"\n",
    "# YOUR CODE HERE\n",
    "\n",
    "df['age'] = pd.to_numeric(df['age'], errors='coerce')"
   ]
  },
  {
   "cell_type": "code",
   "execution_count": 18,
   "metadata": {
    "deletable": false,
    "editable": false,
    "nbgrader": {
     "checksum": "8161fb493602932c56105d44b5e99b89",
     "grade": true,
     "grade_id": "q8_test",
     "locked": true,
     "points": 2,
     "schema_version": 1,
     "solution": false
    }
   },
   "outputs": [],
   "source": [
    "##########################\n",
    "### TEST YOUR SOLUTION ###\n",
    "##########################\n",
    "\n",
    "assert_series_equal(df['age'], sol.df3['age'])"
   ]
  },
  {
   "cell_type": "code",
   "execution_count": 19,
   "metadata": {
    "deletable": false,
    "nbgrader": {
     "checksum": "e19dda1a6d0a1331785f8f425f0aa97d",
     "grade": false,
     "grade_id": "q9",
     "locked": false,
     "schema_version": 1,
     "solution": true
    }
   },
   "outputs": [
    {
     "data": {
      "text/plain": [
       "77.03194103194103"
      ]
     },
     "execution_count": 19,
     "metadata": {},
     "output_type": "execute_result"
    }
   ],
   "source": [
    "\"\"\" 9.\n",
    "What was the average age of death? Store this value in a variable called 'avg_age', then print it\n",
    "\"\"\"\n",
    "# YOUR CODE HERE\n",
    "\n",
    "avg_age = df['age'].mean()\n",
    "avg_age"
   ]
  },
  {
   "cell_type": "code",
   "execution_count": 20,
   "metadata": {
    "deletable": false,
    "editable": false,
    "nbgrader": {
     "checksum": "a573a28984187750f0d9658f7c12dd53",
     "grade": true,
     "grade_id": "q9_test",
     "locked": true,
     "points": 2,
     "schema_version": 1,
     "solution": false
    }
   },
   "outputs": [],
   "source": [
    "##########################\n",
    "### TEST YOUR SOLUTION ###\n",
    "##########################\n",
    "\n",
    "assert_equal(avg_age, sol.avg_age)"
   ]
  },
  {
   "cell_type": "code",
   "execution_count": 21,
   "metadata": {
    "deletable": false,
    "nbgrader": {
     "checksum": "e842adb7231ff3f375cb92d1a07a88da",
     "grade": false,
     "grade_id": "q10",
     "locked": false,
     "schema_version": 1,
     "solution": true
    }
   },
   "outputs": [
    {
     "data": {
      "text/plain": [
       "4752"
      ]
     },
     "execution_count": 21,
     "metadata": {},
     "output_type": "execute_result"
    }
   ],
   "source": [
    "\"\"\" 10.\n",
    "How many people died after 70 years old because of?\n",
    "-- Store the result count in a variable named \"count\" and print it\n",
    "\"\"\"\n",
    "# YOUR CODE HERE\n",
    "\n",
    "age = df['age'] > 70\n",
    "count = len(df[age])\n",
    "count"
   ]
  },
  {
   "cell_type": "code",
   "execution_count": 22,
   "metadata": {
    "deletable": false,
    "editable": false,
    "nbgrader": {
     "checksum": "bb2fb682fb9852e45d30cc8e30abeaae",
     "grade": true,
     "grade_id": "q10_test",
     "locked": true,
     "points": 2,
     "schema_version": 1,
     "solution": false
    }
   },
   "outputs": [],
   "source": [
    "##########################\n",
    "### TEST YOUR SOLUTION ###\n",
    "##########################\n",
    "\n",
    "assert_equal(count, sol.count)"
   ]
  },
  {
   "cell_type": "code",
   "execution_count": 23,
   "metadata": {
    "deletable": false,
    "nbgrader": {
     "checksum": "aac5fb10bce92f212690d16b4f11bb80",
     "grade": false,
     "grade_id": "q11",
     "locked": false,
     "schema_version": 1,
     "solution": true
    }
   },
   "outputs": [
    {
     "name": "stdout",
     "output_type": "stream",
     "text": [
      "5610    Vautour\n",
      "Name: name, dtype: object\n",
      "5610     euthanised\n",
      "Name: cause of death, dtype: object\n"
     ]
    }
   ],
   "source": [
    "\"\"\" 11.\n",
    "Who died the youngest and what was the cause of death?\n",
    "-- Store the name in a variable named \"youngest_name\" and print it\n",
    "-- Store the cause in a variable named \"youngest_cause\" and print it\n",
    "\n",
    "Hint: Get the min age and find the record that has that value\n",
    "\"\"\"\n",
    "# YOUR CODE HERE\n",
    "\n",
    "# print(df.min())\n",
    "youngest = df['age'] == 7\n",
    "# print(df[youngest])\n",
    "youngest_name = df[youngest]['name']\n",
    "print(youngest_name)\n",
    "youngest_cause = df[youngest]['cause of death']\n",
    "print(youngest_cause)"
   ]
  },
  {
   "cell_type": "code",
   "execution_count": 24,
   "metadata": {
    "deletable": false,
    "editable": false,
    "nbgrader": {
     "checksum": "88e4454c3819dfc9706e751455416604",
     "grade": true,
     "grade_id": "q11_test",
     "locked": true,
     "points": 2,
     "schema_version": 1,
     "solution": false
    }
   },
   "outputs": [],
   "source": [
    "##########################\n",
    "### TEST YOUR SOLUTION ###\n",
    "##########################\n",
    "\n",
    "assert_series_equal(youngest_name, sol.youngest_name)\n",
    "assert_series_equal(youngest_cause, sol.youngest_cause)"
   ]
  },
  {
   "cell_type": "code",
   "execution_count": 25,
   "metadata": {
    "deletable": false,
    "nbgrader": {
     "checksum": "6aa6d29c1b5d0b2163013cf184ff3ac6",
     "grade": false,
     "grade_id": "q12",
     "locked": false,
     "schema_version": 1,
     "solution": true
    }
   },
   "outputs": [],
   "source": [
    "\"\"\" 12.\n",
    "We'll be running some queries based on the \"bio\" and \"cause of death\" columns, \n",
    "but they were loaded from the data file as objects.  So first, cast these two colums to strings\n",
    "\"\"\"\n",
    "# YOUR CODE HERE\n",
    "\n",
    "df['bio'] = df['bio'].astype(str)\n",
    "df['cause of death'] = df['cause of death'].astype(str)"
   ]
  },
  {
   "cell_type": "code",
   "execution_count": 26,
   "metadata": {
    "deletable": false,
    "editable": false,
    "nbgrader": {
     "checksum": "65894d0637604569a1eb14d9d9effc2f",
     "grade": true,
     "grade_id": "q12_test",
     "locked": true,
     "points": 2,
     "schema_version": 1,
     "solution": false
    }
   },
   "outputs": [],
   "source": [
    "##########################\n",
    "### TEST YOUR SOLUTION ###\n",
    "##########################\n",
    "\n",
    "assert_series_equal(df['cause of death'], sol.df['cause of death'])\n",
    "assert_series_equal(df['bio'], sol.df['bio'])"
   ]
  },
  {
   "cell_type": "code",
   "execution_count": 27,
   "metadata": {
    "deletable": false,
    "nbgrader": {
     "checksum": "2735f86be259e47f3deb5f68b9b73b6e",
     "grade": false,
     "grade_id": "q13",
     "locked": false,
     "schema_version": 1,
     "solution": true
    }
   },
   "outputs": [
    {
     "data": {
      "text/plain": [
       "518"
      ]
     },
     "execution_count": 27,
     "metadata": {},
     "output_type": "execute_result"
    }
   ],
   "source": [
    "\"\"\" 13.\n",
    "What is total number of deaths caused by cancer?\n",
    "-- Store the result count in a variable named \"count_cancer\" and print it\n",
    "\n",
    "Hint: Check if the cause_of_death is any type of (contains) \"cancer\"\n",
    "\"\"\"\n",
    "# YOUR CODE HERE\n",
    "\n",
    "cancer = df['cause of death'].str.contains('cancer')\n",
    "count_cancer = len(df[cancer])\n",
    "count_cancer"
   ]
  },
  {
   "cell_type": "code",
   "execution_count": 28,
   "metadata": {
    "deletable": false,
    "editable": false,
    "nbgrader": {
     "checksum": "29dfd4455eb1bf932173c32b9a3fc71f",
     "grade": true,
     "grade_id": "q13_test",
     "locked": true,
     "points": 2,
     "schema_version": 1,
     "solution": false
    }
   },
   "outputs": [],
   "source": [
    "##########################\n",
    "### TEST YOUR SOLUTION ###\n",
    "##########################\n",
    "\n",
    "assert_equal(count_cancer, sol.count_cancer)"
   ]
  },
  {
   "cell_type": "code",
   "execution_count": 29,
   "metadata": {
    "deletable": false,
    "nbgrader": {
     "checksum": "b94d39bff1435b2b6466a2f61735aacb",
     "grade": false,
     "grade_id": "q14",
     "locked": false,
     "schema_version": 1,
     "solution": true
    }
   },
   "outputs": [
    {
     "data": {
      "text/plain": [
       "2136"
      ]
     },
     "execution_count": 29,
     "metadata": {},
     "output_type": "execute_result"
    }
   ],
   "source": [
    "\"\"\" 14.\n",
    "How many American celebrities died?\n",
    "-- Store the result count in a variable named \"count_american\" and print it\n",
    "\n",
    "Hint: Search the bio for \"American\"\n",
    "\"\"\"\n",
    "# YOUR CODE HERE\n",
    "\n",
    "american = df['bio'].str.contains('American')\n",
    "count_american = len(df[american])\n",
    "count_american"
   ]
  },
  {
   "cell_type": "code",
   "execution_count": 30,
   "metadata": {
    "deletable": false,
    "editable": false,
    "nbgrader": {
     "checksum": "f961b91dd5ee5b74ffaedcc3bb132fc3",
     "grade": true,
     "grade_id": "q14_test",
     "locked": true,
     "points": 2,
     "schema_version": 1,
     "solution": false
    }
   },
   "outputs": [],
   "source": [
    "##########################\n",
    "### TEST YOUR SOLUTION ###\n",
    "##########################\n",
    "\n",
    "assert_equal(count_american, sol.count_american)"
   ]
  },
  {
   "cell_type": "code",
   "execution_count": 31,
   "metadata": {
    "deletable": false,
    "nbgrader": {
     "checksum": "49ff8ecb8bfb80d2077658217c90195b",
     "grade": false,
     "grade_id": "q15",
     "locked": false,
     "schema_version": 1,
     "solution": true
    }
   },
   "outputs": [
    {
     "name": "stdout",
     "output_type": "stream",
     "text": [
      "Age 50. Cause of Death:  traffic collision\n"
     ]
    }
   ],
   "source": [
    "\"\"\" 15.\n",
    "What was one cause of death for celebrities who died at 50?\n",
    "-- Name the result as \"rand_cause\"\n",
    "-- Print the result using \"print(\"Age 50. Cause of Death:\", rand_cause)\"\n",
    "\n",
    "Hint: import random and randomly select a cause of death for celebrities who died at 50\n",
    "\"\"\"\n",
    "\n",
    "#############################################################################################\n",
    "### DO NOT MODIFY THIS! WE NEED TO SEED THE RANDOM VALUE TO ACCURATELY TEST YOUR SOLUTION ###\n",
    "import random\n",
    "random.seed(0)\n",
    "#############################################################################################\n",
    "\n",
    "# YOUR CODE HERE\n",
    "\n",
    "import random\n",
    "\n",
    "_50 = df['age'] == 50\n",
    "die_50 = df[_50]\n",
    "rand_int = random.randint(0, len(die_50) - 1)\n",
    "rand_cause = die_50.iloc[rand_int]['cause of death']\n",
    "print(\"Age 50. Cause of Death:\", rand_cause)"
   ]
  },
  {
   "cell_type": "code",
   "execution_count": 32,
   "metadata": {
    "deletable": false,
    "editable": false,
    "nbgrader": {
     "checksum": "9bd0ca4dd484089f7ccf33d90e50ab48",
     "grade": true,
     "grade_id": "q15_test",
     "locked": true,
     "points": 2,
     "schema_version": 1,
     "solution": false
    }
   },
   "outputs": [],
   "source": [
    "##########################\n",
    "### TEST YOUR SOLUTION ###\n",
    "##########################\n",
    "\n",
    "assert_equal(rand_cause, sol.rand_cause)"
   ]
  },
  {
   "cell_type": "code",
   "execution_count": 33,
   "metadata": {
    "deletable": false,
    "nbgrader": {
     "checksum": "a6334f4b660428475ac5744b3381667a",
     "grade": false,
     "grade_id": "q16",
     "locked": false,
     "schema_version": 1,
     "solution": true
    }
   },
   "outputs": [
    {
     "name": "stdout",
     "output_type": "stream",
     "text": [
      "cause of death\n",
      " Alzheimer's disease                         79.590909\n",
      " Myself and I)                               76.000000\n",
      " Parkinson's disease                         80.200000\n",
      " Parkinson's disease and multiple myeloma    69.000000\n",
      " Pick's disease                              68.000000\n",
      "                                               ...    \n",
      " plane crash                                 55.500000\n",
      " progressive supranuclear palsy              84.000000\n",
      " shot                                        56.500000\n",
      " stabbed                                     85.000000\n",
      " tased                                       48.000000\n",
      "Name: age, Length: 334, dtype: float64\n"
     ]
    }
   ],
   "source": [
    "\"\"\" 16.\n",
    "What was the mean age for each cause of death?\n",
    "Hint: import numpy and group by 'cause of death', then get the mean age and store the\n",
    "resulting DataFrame in a variable named 'df_grouped_cause', then print it\n",
    "\"\"\"\n",
    "# YOUR CODE HERE\n",
    "\n",
    "import numpy as np\n",
    "df_grouped_cause = df.groupby(['cause of death']).agg(np.mean)['age']\n",
    "print(df_grouped_cause)\n",
    "df_grouped_cause = df"
   ]
  },
  {
   "cell_type": "code",
   "execution_count": 34,
   "metadata": {
    "deletable": false,
    "editable": false,
    "nbgrader": {
     "checksum": "7ba46c56d22756eb624e24e17af9dacb",
     "grade": true,
     "grade_id": "q16_test",
     "locked": true,
     "points": 2,
     "schema_version": 1,
     "solution": false
    }
   },
   "outputs": [],
   "source": [
    "##########################\n",
    "### TEST YOUR SOLUTION ###\n",
    "##########################\n",
    "\n",
    "assert_frame_equal(df_grouped_cause, sol.df_grouped_cause)"
   ]
  },
  {
   "cell_type": "markdown",
   "metadata": {
    "deletable": false,
    "editable": false,
    "nbgrader": {
     "checksum": "7ed71137520ee8bf1bb90c073a1c111a",
     "grade": false,
     "grade_id": "cell-0732ef50d65200e7",
     "locked": true,
     "schema_version": 1,
     "solution": false
    }
   },
   "source": [
    "### Count the number of people who died in each month of 2016\n",
    "1. Create new columns that shows which month and year each person died in\n",
    "2. Group all the entries based on the month they appeared in"
   ]
  },
  {
   "cell_type": "code",
   "execution_count": 35,
   "metadata": {
    "deletable": false,
    "nbgrader": {
     "checksum": "e720f48aa4641cd44082d13d898d3fc2",
     "grade": false,
     "grade_id": "q17",
     "locked": false,
     "schema_version": 1,
     "solution": true
    }
   },
   "outputs": [
    {
     "data": {
      "text/plain": [
       "0        1\n",
       "1        1\n",
       "2        1\n",
       "3        1\n",
       "4        1\n",
       "        ..\n",
       "6569     5\n",
       "6570     6\n",
       "6571     7\n",
       "6572     9\n",
       "6573    11\n",
       "Name: month, Length: 6574, dtype: int64"
      ]
     },
     "execution_count": 35,
     "metadata": {},
     "output_type": "execute_result"
    }
   ],
   "source": [
    "\"\"\" 17.\n",
    "Make a new column in the DataFrame df with the numeric month of death\n",
    "\n",
    "Hint:\n",
    "Use the apply() method to run a function against the \"date of death\" column,\n",
    "and return the numeric month (get the value by using \".month\")\n",
    "\"\"\"\n",
    "\n",
    "def get_month(date):\n",
    "    # YOUR CODE HERE\n",
    "    return date.month\n",
    "\n",
    "df['month'] = df['date of death'].apply(get_month)\n",
    "df['month']"
   ]
  },
  {
   "cell_type": "code",
   "execution_count": 36,
   "metadata": {
    "deletable": false,
    "editable": false,
    "nbgrader": {
     "checksum": "9e714a8277c45a7c02777c333c1711c6",
     "grade": true,
     "grade_id": "q17_test",
     "locked": true,
     "points": 2,
     "schema_version": 1,
     "solution": false
    }
   },
   "outputs": [],
   "source": [
    "##########################\n",
    "### TEST YOUR SOLUTION ###\n",
    "##########################\n",
    "\n",
    "assert_series_equal(df['month'], sol.df['month'])"
   ]
  },
  {
   "cell_type": "code",
   "execution_count": 37,
   "metadata": {
    "deletable": false,
    "nbgrader": {
     "checksum": "2942350159c079197433271256cfe773",
     "grade": false,
     "grade_id": "q18",
     "locked": false,
     "schema_version": 1,
     "solution": true
    }
   },
   "outputs": [
    {
     "data": {
      "text/plain": [
       "0       2016\n",
       "1       2016\n",
       "2       2016\n",
       "3       2016\n",
       "4       2016\n",
       "        ... \n",
       "6569    2015\n",
       "6570    2015\n",
       "6571    2015\n",
       "6572    2015\n",
       "6573    2015\n",
       "Name: year, Length: 6574, dtype: int64"
      ]
     },
     "execution_count": 37,
     "metadata": {},
     "output_type": "execute_result"
    }
   ],
   "source": [
    "\"\"\" 18.\n",
    "Make a new column in the DataFrame df with the year of death\n",
    "\n",
    "Hint: Apply a function to get the year from the \"date of death\" column\n",
    "\"\"\"\n",
    "\n",
    "def get_year(date):\n",
    "    # YOUR CODE HERE\n",
    "    return date.year\n",
    "\n",
    "df['year'] = df['date of death'].apply(get_year)\n",
    "df['year']"
   ]
  },
  {
   "cell_type": "code",
   "execution_count": 38,
   "metadata": {
    "deletable": false,
    "editable": false,
    "nbgrader": {
     "checksum": "e95099aa1b39121c5620b14314d82691",
     "grade": true,
     "grade_id": "q18_test",
     "locked": true,
     "points": 2,
     "schema_version": 1,
     "solution": false
    }
   },
   "outputs": [],
   "source": [
    "##########################\n",
    "### TEST YOUR SOLUTION ###\n",
    "##########################\n",
    "\n",
    "assert_series_equal(df['year'], sol.df['year'])"
   ]
  },
  {
   "cell_type": "code",
   "execution_count": 39,
   "metadata": {
    "deletable": false,
    "nbgrader": {
     "checksum": "a875d9a052571ca5d86902910a970bd9",
     "grade": false,
     "grade_id": "q19",
     "locked": false,
     "schema_version": 1,
     "solution": true
    }
   },
   "outputs": [
    {
     "data": {
      "text/html": [
       "<div>\n",
       "<style scoped>\n",
       "    .dataframe tbody tr th:only-of-type {\n",
       "        vertical-align: middle;\n",
       "    }\n",
       "\n",
       "    .dataframe tbody tr th {\n",
       "        vertical-align: top;\n",
       "    }\n",
       "\n",
       "    .dataframe thead th {\n",
       "        text-align: right;\n",
       "    }\n",
       "</style>\n",
       "<table border=\"1\" class=\"dataframe\">\n",
       "  <thead>\n",
       "    <tr style=\"text-align: right;\">\n",
       "      <th></th>\n",
       "      <th>date of death</th>\n",
       "      <th>name</th>\n",
       "      <th>age</th>\n",
       "      <th>bio</th>\n",
       "      <th>cause_id</th>\n",
       "      <th>cause of death</th>\n",
       "      <th>month</th>\n",
       "      <th>year</th>\n",
       "    </tr>\n",
       "  </thead>\n",
       "  <tbody>\n",
       "    <tr>\n",
       "      <th>0</th>\n",
       "      <td>2016-01-01</td>\n",
       "      <td>Tony Lane</td>\n",
       "      <td>71.0</td>\n",
       "      <td>American art director (Rolling Stone)</td>\n",
       "      <td>8915.0</td>\n",
       "      <td>brain cancer</td>\n",
       "      <td>1</td>\n",
       "      <td>2016</td>\n",
       "    </tr>\n",
       "    <tr>\n",
       "      <th>1</th>\n",
       "      <td>2016-01-01</td>\n",
       "      <td>Gilbert Kaplan</td>\n",
       "      <td>74.0</td>\n",
       "      <td>American conductor and businessman</td>\n",
       "      <td>2860.0</td>\n",
       "      <td>cancer</td>\n",
       "      <td>1</td>\n",
       "      <td>2016</td>\n",
       "    </tr>\n",
       "    <tr>\n",
       "      <th>2</th>\n",
       "      <td>2016-01-01</td>\n",
       "      <td>Brian Johns</td>\n",
       "      <td>79.0</td>\n",
       "      <td>Australian company director, managing director...</td>\n",
       "      <td>2860.0</td>\n",
       "      <td>cancer</td>\n",
       "      <td>1</td>\n",
       "      <td>2016</td>\n",
       "    </tr>\n",
       "    <tr>\n",
       "      <th>3</th>\n",
       "      <td>2016-01-01</td>\n",
       "      <td>Natasha Aguilar</td>\n",
       "      <td>45.0</td>\n",
       "      <td>Costa Rican swimmer, silver and bronze medalis...</td>\n",
       "      <td>33897.0</td>\n",
       "      <td>complications of a stroke</td>\n",
       "      <td>1</td>\n",
       "      <td>2016</td>\n",
       "    </tr>\n",
       "    <tr>\n",
       "      <th>4</th>\n",
       "      <td>2016-01-01</td>\n",
       "      <td>Fazu Aliyeva</td>\n",
       "      <td>83.0</td>\n",
       "      <td>Russian Avar poet and journalist</td>\n",
       "      <td>10648.0</td>\n",
       "      <td>heart failure</td>\n",
       "      <td>1</td>\n",
       "      <td>2016</td>\n",
       "    </tr>\n",
       "    <tr>\n",
       "      <th>...</th>\n",
       "      <td>...</td>\n",
       "      <td>...</td>\n",
       "      <td>...</td>\n",
       "      <td>...</td>\n",
       "      <td>...</td>\n",
       "      <td>...</td>\n",
       "      <td>...</td>\n",
       "      <td>...</td>\n",
       "    </tr>\n",
       "    <tr>\n",
       "      <th>6559</th>\n",
       "      <td>2016-12-31</td>\n",
       "      <td>Peter Fernando</td>\n",
       "      <td>77.0</td>\n",
       "      <td>Indian Roman Catholic prelate, Bishop of Tutic...</td>\n",
       "      <td>NaN</td>\n",
       "      <td>nan</td>\n",
       "      <td>12</td>\n",
       "      <td>2016</td>\n",
       "    </tr>\n",
       "    <tr>\n",
       "      <th>6560</th>\n",
       "      <td>2016-12-31</td>\n",
       "      <td>Manjurul Islam Liton</td>\n",
       "      <td>48.0</td>\n",
       "      <td>Bangladeshi politician</td>\n",
       "      <td>NaN</td>\n",
       "      <td>nan</td>\n",
       "      <td>12</td>\n",
       "      <td>2016</td>\n",
       "    </tr>\n",
       "    <tr>\n",
       "      <th>6561</th>\n",
       "      <td>2016-12-31</td>\n",
       "      <td>David Meltzer</td>\n",
       "      <td>79.0</td>\n",
       "      <td>American poet and musician.</td>\n",
       "      <td>NaN</td>\n",
       "      <td>nan</td>\n",
       "      <td>12</td>\n",
       "      <td>2016</td>\n",
       "    </tr>\n",
       "    <tr>\n",
       "      <th>6562</th>\n",
       "      <td>2016-12-31</td>\n",
       "      <td>Prince Dimitri Romanov</td>\n",
       "      <td>90.0</td>\n",
       "      <td>Russian prince, banker, philanthropist, and au...</td>\n",
       "      <td>NaN</td>\n",
       "      <td>nan</td>\n",
       "      <td>12</td>\n",
       "      <td>2016</td>\n",
       "    </tr>\n",
       "    <tr>\n",
       "      <th>6563</th>\n",
       "      <td>2016-12-31</td>\n",
       "      <td>Robert Taussat</td>\n",
       "      <td>96.0</td>\n",
       "      <td>French historian and author.</td>\n",
       "      <td>NaN</td>\n",
       "      <td>nan</td>\n",
       "      <td>12</td>\n",
       "      <td>2016</td>\n",
       "    </tr>\n",
       "  </tbody>\n",
       "</table>\n",
       "<p>6564 rows × 8 columns</p>\n",
       "</div>"
      ],
      "text/plain": [
       "     date of death                    name   age  \\\n",
       "0       2016-01-01               Tony Lane  71.0   \n",
       "1       2016-01-01          Gilbert Kaplan  74.0   \n",
       "2       2016-01-01             Brian Johns  79.0   \n",
       "3       2016-01-01         Natasha Aguilar  45.0   \n",
       "4       2016-01-01            Fazu Aliyeva  83.0   \n",
       "...            ...                     ...   ...   \n",
       "6559    2016-12-31          Peter Fernando  77.0   \n",
       "6560    2016-12-31    Manjurul Islam Liton  48.0   \n",
       "6561    2016-12-31           David Meltzer  79.0   \n",
       "6562    2016-12-31  Prince Dimitri Romanov  90.0   \n",
       "6563    2016-12-31          Robert Taussat  96.0   \n",
       "\n",
       "                                                    bio  cause_id  \\\n",
       "0                 American art director (Rolling Stone)    8915.0   \n",
       "1                    American conductor and businessman    2860.0   \n",
       "2     Australian company director, managing director...    2860.0   \n",
       "3     Costa Rican swimmer, silver and bronze medalis...   33897.0   \n",
       "4                      Russian Avar poet and journalist   10648.0   \n",
       "...                                                 ...       ...   \n",
       "6559  Indian Roman Catholic prelate, Bishop of Tutic...       NaN   \n",
       "6560                             Bangladeshi politician       NaN   \n",
       "6561                        American poet and musician.       NaN   \n",
       "6562  Russian prince, banker, philanthropist, and au...       NaN   \n",
       "6563                       French historian and author.       NaN   \n",
       "\n",
       "                  cause of death  month  year  \n",
       "0                   brain cancer      1  2016  \n",
       "1                         cancer      1  2016  \n",
       "2                         cancer      1  2016  \n",
       "3      complications of a stroke      1  2016  \n",
       "4                  heart failure      1  2016  \n",
       "...                          ...    ...   ...  \n",
       "6559                         nan     12  2016  \n",
       "6560                         nan     12  2016  \n",
       "6561                         nan     12  2016  \n",
       "6562                         nan     12  2016  \n",
       "6563                         nan     12  2016  \n",
       "\n",
       "[6564 rows x 8 columns]"
      ]
     },
     "execution_count": 39,
     "metadata": {},
     "output_type": "execute_result"
    }
   ],
   "source": [
    "\"\"\" 19.\n",
    "Filter out any deaths that didn't take place in 2016\n",
    "-- Name the new DataFrame as \"df_2016\"\n",
    "\"\"\"\n",
    "# YOUR CODE HERE\n",
    "\n",
    "_2016 = df['year'] == 2016\n",
    "df_2016 = df[_2016]\n",
    "df_2016"
   ]
  },
  {
   "cell_type": "code",
   "execution_count": 40,
   "metadata": {
    "deletable": false,
    "editable": false,
    "nbgrader": {
     "checksum": "b81700b171dc39da865d6a1cc2492247",
     "grade": true,
     "grade_id": "q19_test",
     "locked": true,
     "points": 2,
     "schema_version": 1,
     "solution": false
    }
   },
   "outputs": [],
   "source": [
    "##########################\n",
    "### TEST YOUR SOLUTION ###\n",
    "##########################\n",
    "\n",
    "assert_frame_equal(df_2016, sol.df_2016)"
   ]
  },
  {
   "cell_type": "code",
   "execution_count": 41,
   "metadata": {
    "deletable": false,
    "nbgrader": {
     "checksum": "5add845d0c80a04f92a8882cd60bb6f8",
     "grade": false,
     "grade_id": "q20",
     "locked": false,
     "schema_version": 1,
     "solution": true
    }
   },
   "outputs": [
    {
     "data": {
      "text/html": [
       "<div>\n",
       "<style scoped>\n",
       "    .dataframe tbody tr th:only-of-type {\n",
       "        vertical-align: middle;\n",
       "    }\n",
       "\n",
       "    .dataframe tbody tr th {\n",
       "        vertical-align: top;\n",
       "    }\n",
       "\n",
       "    .dataframe thead tr th {\n",
       "        text-align: left;\n",
       "    }\n",
       "\n",
       "    .dataframe thead tr:last-of-type th {\n",
       "        text-align: right;\n",
       "    }\n",
       "</style>\n",
       "<table border=\"1\" class=\"dataframe\">\n",
       "  <thead>\n",
       "    <tr>\n",
       "      <th></th>\n",
       "      <th>len</th>\n",
       "    </tr>\n",
       "    <tr>\n",
       "      <th></th>\n",
       "      <th>name</th>\n",
       "    </tr>\n",
       "    <tr>\n",
       "      <th>month</th>\n",
       "      <th></th>\n",
       "    </tr>\n",
       "  </thead>\n",
       "  <tbody>\n",
       "    <tr>\n",
       "      <th>1</th>\n",
       "      <td>669</td>\n",
       "    </tr>\n",
       "    <tr>\n",
       "      <th>2</th>\n",
       "      <td>556</td>\n",
       "    </tr>\n",
       "    <tr>\n",
       "      <th>3</th>\n",
       "      <td>636</td>\n",
       "    </tr>\n",
       "    <tr>\n",
       "      <th>4</th>\n",
       "      <td>540</td>\n",
       "    </tr>\n",
       "    <tr>\n",
       "      <th>5</th>\n",
       "      <td>536</td>\n",
       "    </tr>\n",
       "    <tr>\n",
       "      <th>6</th>\n",
       "      <td>530</td>\n",
       "    </tr>\n",
       "    <tr>\n",
       "      <th>7</th>\n",
       "      <td>543</td>\n",
       "    </tr>\n",
       "    <tr>\n",
       "      <th>8</th>\n",
       "      <td>517</td>\n",
       "    </tr>\n",
       "    <tr>\n",
       "      <th>9</th>\n",
       "      <td>497</td>\n",
       "    </tr>\n",
       "    <tr>\n",
       "      <th>10</th>\n",
       "      <td>511</td>\n",
       "    </tr>\n",
       "    <tr>\n",
       "      <th>11</th>\n",
       "      <td>507</td>\n",
       "    </tr>\n",
       "    <tr>\n",
       "      <th>12</th>\n",
       "      <td>522</td>\n",
       "    </tr>\n",
       "  </tbody>\n",
       "</table>\n",
       "</div>"
      ],
      "text/plain": [
       "       len\n",
       "      name\n",
       "month     \n",
       "1      669\n",
       "2      556\n",
       "3      636\n",
       "4      540\n",
       "5      536\n",
       "6      530\n",
       "7      543\n",
       "8      517\n",
       "9      497\n",
       "10     511\n",
       "11     507\n",
       "12     522"
      ]
     },
     "execution_count": 41,
     "metadata": {},
     "output_type": "execute_result"
    }
   ],
   "source": [
    "\"\"\" 20.\n",
    "Using a pivot table, obtain a list that contains the number of people that died in each month\n",
    "-- Name the result as \"df_per_month\"\n",
    "\"\"\"\n",
    "# YOUR CODE HERE\n",
    "\n",
    "df_per_month = pd.pivot_table(\n",
    "    df_2016, index = ['month'],\n",
    "    values = ['name'],\n",
    "    aggfunc = [len]\n",
    "    )\n",
    "df_per_month"
   ]
  },
  {
   "cell_type": "code",
   "execution_count": 42,
   "metadata": {
    "deletable": false,
    "editable": false,
    "nbgrader": {
     "checksum": "071b3d863cd4833c2b5f0cd3a3b0aefc",
     "grade": true,
     "grade_id": "q20_test",
     "locked": true,
     "points": 2,
     "schema_version": 1,
     "solution": false
    }
   },
   "outputs": [],
   "source": [
    "##########################\n",
    "### TEST YOUR SOLUTION ###\n",
    "##########################\n",
    "\n",
    "assert_frame_equal(df_per_month, sol.df_per_month)"
   ]
  },
  {
   "cell_type": "markdown",
   "metadata": {
    "deletable": false,
    "editable": false,
    "nbgrader": {
     "checksum": "2fa185ef7d354f4eee499389f0fb1afe",
     "grade": false,
     "grade_id": "cell-afc6e10559ca39ce",
     "locked": true,
     "schema_version": 1,
     "solution": false
    }
   },
   "source": [
    "### Data Visualization"
   ]
  },
  {
   "cell_type": "code",
   "execution_count": 43,
   "metadata": {
    "deletable": false,
    "nbgrader": {
     "checksum": "e43e6d7266b2d74f79674fc48396e86a",
     "grade": false,
     "grade_id": "q21",
     "locked": false,
     "schema_version": 1,
     "solution": true
    }
   },
   "outputs": [
    {
     "data": {
      "image/png": "[encoded data removed]",
      "text/plain": [
       "<Figure size 432x288 with 1 Axes>"
      ]
     },
     "metadata": {
      "needs_background": "light"
     },
     "output_type": "display_data"
    }
   ],
   "source": [
    "\"\"\" 21. \n",
    "Visualize the number of deaths per month as a bar chart\n",
    "\n",
    "Hint: A DataFrame has a simple .plot() method you can use.  \n",
    "\n",
    "The x axis should show the individual number of the month and the y axis should show the death counts\n",
    "Don't forget to add a title and labels for the x and y axes\n",
    "\"\"\"\n",
    "\n",
    "# YOUR CODE HERE\n",
    "\n",
    "df_month_count = df['month'].value_counts()\n",
    "df_month_count.plot(kind='bar', title = 'Number of deaths per month')\n",
    "plt.xlabel('Individual number of the month')\n",
    "plt.ylabel('The death counts')\n",
    "\n",
    "\n",
    "###########################\n",
    "### DO NOT MODIFY THIS! ###\n",
    "plt.show()\n",
    "###########################"
   ]
  },
  {
   "cell_type": "code",
   "execution_count": 44,
   "metadata": {
    "deletable": false,
    "editable": false,
    "nbgrader": {
     "checksum": "5bb7c7994c09a42307f2064bb56ff4da",
     "grade": true,
     "grade_id": "q21_test",
     "locked": true,
     "points": 0,
     "schema_version": 1,
     "solution": false
    }
   },
   "outputs": [],
   "source": [
    "###########################\n",
    "##### MAUNALLY GRADED #####\n",
    "###########################"
   ]
  },
  {
   "cell_type": "markdown",
   "metadata": {
    "deletable": false,
    "editable": false,
    "nbgrader": {
     "checksum": "22838ac2bbc3baa7f5ef893d0952e5aa",
     "grade": false,
     "grade_id": "cell-534be1dfb9069a73",
     "locked": true,
     "schema_version": 1,
     "solution": false
    }
   },
   "source": [
    "### Make a bar chart that plots the number of deaths per nationality\n",
    "1. Create a new column that identifies the nationality of each celebrity, extracting the first word from the bio\n",
    "2. Make a bar chart that plots the number of deaths per nationality"
   ]
  },
  {
   "cell_type": "code",
   "execution_count": 45,
   "metadata": {
    "deletable": false,
    "nbgrader": {
     "checksum": "eaab8eda7e6e57394d6bd00746cbd2d5",
     "grade": false,
     "grade_id": "q22",
     "locked": false,
     "schema_version": 1,
     "solution": true
    }
   },
   "outputs": [
    {
     "data": {
      "text/plain": [
       "0         American\n",
       "1         American\n",
       "2       Australian\n",
       "3            Costa\n",
       "4          Russian\n",
       "           ...    \n",
       "6569        Singer\n",
       "6570         Actor\n",
       "6571           Pro\n",
       "6572      Baseball\n",
       "6573         Actor\n",
       "Name: nationality, Length: 6574, dtype: object"
      ]
     },
     "execution_count": 45,
     "metadata": {},
     "output_type": "execute_result"
    }
   ],
   "source": [
    "\"\"\" 22.\n",
    "Create a new column in the DataFrame df that identifies the nationality of each celebrity, \n",
    "extracting the first word from the bio\n",
    "\n",
    "Hint:\n",
    "To get the nationality from the bio, use the method split() on the column \"bio\" \n",
    "and use the first element in the split result as the nationality.\n",
    "\"\"\"\n",
    "\n",
    "def get_nationality(bio):\n",
    "    nat_1 = bio.split()\n",
    "    nat = nat_1[0]\n",
    "    \n",
    "    return nat\n",
    "    \n",
    "df['nationality'] = df['bio'].apply(get_nationality)\n",
    "df['nationality']"
   ]
  },
  {
   "cell_type": "code",
   "execution_count": 46,
   "metadata": {
    "deletable": false,
    "editable": false,
    "nbgrader": {
     "checksum": "5711245122c55350cbeb0904fbaf4984",
     "grade": true,
     "grade_id": "q22_test",
     "locked": true,
     "points": 2,
     "schema_version": 1,
     "solution": false
    }
   },
   "outputs": [],
   "source": [
    "##########################\n",
    "### TEST YOUR SOLUTION ###\n",
    "##########################\n",
    "\n",
    "assert_series_equal(df['nationality'], sol.df['nationality'])"
   ]
  },
  {
   "cell_type": "code",
   "execution_count": 47,
   "metadata": {
    "deletable": false,
    "nbgrader": {
     "checksum": "6544e8b257efb754b7154480f88c9023",
     "grade": false,
     "grade_id": "q23",
     "locked": false,
     "schema_version": 1,
     "solution": true
    }
   },
   "outputs": [
    {
     "data": {
      "image/png": "[encoded data removed]",
      "text/plain": [
       "<Figure size 432x288 with 1 Axes>"
      ]
     },
     "metadata": {
      "needs_background": "light"
     },
     "output_type": "display_data"
    }
   ],
   "source": [
    "\"\"\" 23.\n",
    "Make a bar chart that plots the number of deaths per nationality\n",
    "Only include nationalities with more than 50 deaths\n",
    "-- Name the resulting Series as \"unlucky_countries\"\n",
    "Hint(s):\n",
    "Get the count of unique values in the 'nationality' column using the value_counts() method.\n",
    "Filter the resulting Series to only include those nationalities with a count of more than 50.\n",
    "Plot the final Series.  Note, a Series has a simple .plot() method you can use.\n",
    "The x axis should show the individual nationalities and the y axis should show the death counts\n",
    "Don't forget to add a title and labels for the x and y axis\n",
    "\"\"\"\n",
    "# YOUR CODE HERE\n",
    "\n",
    "count = df['nationality'].value_counts() >50\n",
    "ccount = pd.Series(count).values\n",
    "# print(ccount)\n",
    "\n",
    "# we can see there are 23 \"True\" from the output of ccount\n",
    "\n",
    "unlucky_countries = df['nationality'].value_counts().head(23)\n",
    "# print(unlucky_countries)\n",
    "\n",
    "\n",
    "unlucky_countries.plot(kind = 'bar', title = 'Number of deaths per nationality')\n",
    "plt.xlabel('Individual nationalities')\n",
    "plt.ylabel('The death counts')\n",
    "\n",
    "\n",
    "###########################\n",
    "### DO NOT MODIFY THIS! ###\n",
    "plt.show()\n",
    "###########################"
   ]
  },
  {
   "cell_type": "code",
   "execution_count": 48,
   "metadata": {
    "deletable": false,
    "editable": false,
    "nbgrader": {
     "checksum": "90cdff5707ac335d8d9797255ca77a6e",
     "grade": true,
     "grade_id": "q23_a",
     "locked": true,
     "points": 2,
     "schema_version": 1,
     "solution": false
    }
   },
   "outputs": [],
   "source": [
    "##########################\n",
    "### TEST YOUR SOLUTION ###\n",
    "##########################\n",
    "\n",
    "assert_series_equal(unlucky_countries, sol.unlucky_countries)"
   ]
  },
  {
   "cell_type": "code",
   "execution_count": 49,
   "metadata": {
    "deletable": false,
    "editable": false,
    "nbgrader": {
     "checksum": "a14d12c824bd3257d04e61c0221aa998",
     "grade": true,
     "grade_id": "q23_b",
     "locked": true,
     "points": 0,
     "schema_version": 1,
     "solution": false
    }
   },
   "outputs": [],
   "source": [
    "###########################\n",
    "##### MAUNALLY GRADED #####\n",
    "###########################"
   ]
  }
 ],
 "metadata": {
  "anaconda-cloud": {},
  "kernelspec": {
   "display_name": "Python 3",
   "language": "python",
   "name": "python3"
  },
  "language_info": {
   "codemirror_mode": {
    "name": "ipython",
    "version": 3
   },
   "file_extension": ".py",
   "mimetype": "text/x-python",
   "name": "python",
   "nbconvert_exporter": "python",
   "pygments_lexer": "ipython3",
   "version": "3.6.9"
  }
 },
 "nbformat": 4,
 "nbformat_minor": 1
}
